{
  "nbformat": 4,
  "nbformat_minor": 0,
  "metadata": {
    "colab": {
      "name": "Untitled0.ipynb",
      "provenance": [],
      "collapsed_sections": [],
      "toc_visible": true
    },
    "kernelspec": {
      "name": "python3",
      "display_name": "Python 3"
    }
  },
  "cells": [
    {
      "cell_type": "code",
      "metadata": {
        "id": "R3-sP42KZaHt"
      },
      "source": [
        ""
      ],
      "execution_count": null,
      "outputs": []
    },
    {
      "cell_type": "markdown",
      "metadata": {
        "id": "hkRZfmJt5hEn"
      },
      "source": [
        "# Задание"
      ]
    },
    {
      "cell_type": "markdown",
      "metadata": {
        "id": "W4o6uYGX6BPZ"
      },
      "source": [
        "Требуется создать ноутбук, в котором будут проведены эксперименты с инструментами `sklearn`.\n",
        "\n",
        "Задачи:\n",
        "* Произведите базовую подготовку данных;\n",
        "* Создайте baseline модель линейной регрессии;\n",
        "---\n",
        "* Произведите расширенный анализ данных:\n",
        "    - Оцените корреляции признаков;\n",
        "    - Оцените распределения признаков;\n",
        "    - Оцените характер зависимости целевой переменной от каждого признака;\n",
        "    - Напишите свои выводы по результатам анализа.\n",
        "\n",
        "* Изучите работу инструментов нормализации данных:\n",
        "    - Примените трансформер `sklearn.preprocessing.StandardScaler` к данным, отобразите распределения после обработки, обучите модель на обработанных данных и оцените показатели;\n",
        "    - Примените трансформер `sklearn.preprocessing.MinMaxScaler` к данным, отобразите распределения после обработки, обучите модель на обработанных данных и оцените показатели;\n",
        "    - Сравните результаты и сделайте выводы.\n",
        "\n",
        "* Изучите работу инструментов выравнивания распределений:\n",
        "    - Примените трансформер `sklearn.preprocessing.PowerTransformer` к данным, отобразите распределения после обработки, обучите модель на обработанных данных и оцените показатели;\n",
        "    - Примените трансформер `sklearn.preprocessing.QuantileTransformer(output_distribution='normal')` к данным, отобразите распределения после обработки, обучите модель на обработанных данных и оцените показатели;\n",
        "    - Сравните результаты и сделайте выводы.\n",
        "\n",
        "* Исключите выбросы на уровне `PRICE == 50` из данных, обучите модель и оцените показатели;\n",
        "\n",
        "* Оцените работу модели при исключении каждого признака [13 экспериментов] (результаты представить в виде таблицы `DataFrame` с указание исключенного признака и показателей метрик);\n",
        "\n",
        "* Примените трансформер `sklearn.preprocessing.PolynomialFeatures` для генерации признака `LSTAT` в квадрате, обучите модель на данных с новым признаком, оцените работу модели;\n",
        "\n",
        "---\n",
        "* Создайте базовую модель Ридж регрессии https://scikit-learn.org/stable/modules/generated/sklearn.linear_model.Ridge.html;\n",
        "\n",
        "* Испытайте работу модели при использовании различных методов нормализации и выравнивания распределений;\n",
        "\n",
        "* Оцените работу модели при различных $\\alpha$ (изучить не менее 7 различных значений) и отобразите на графике (y-axis ~ R2, x-axis ~ log(alpha));\n",
        "\n",
        "---\n",
        "* Разработайте лучшую модель с необходимой предобработкой для решения задачи;\n",
        "* Написать выводы по результатам.\n",
        "\n",
        "> **Не забывайте разбивать ноутбук на секции, использовать функции, делать выполнение ноутбука последовательным.** "
      ]
    },
    {
      "cell_type": "markdown",
      "metadata": {
        "id": "wPnRlh2DcrdV"
      },
      "source": [
        ""
      ]
    },
    {
      "cell_type": "markdown",
      "metadata": {
        "id": "HYh-kUq9ZcZh"
      },
      "source": [
        "# Проведем расширенный анализ данных.\r\n",
        "# Импортируем все нужные библиотеки\r\n",
        "\r\n"
      ]
    },
    {
      "cell_type": "markdown",
      "metadata": {
        "id": "QwGgp88FZ2Ew"
      },
      "source": [
        ""
      ]
    },
    {
      "cell_type": "code",
      "metadata": {
        "id": "bOSLvgoYZmsT"
      },
      "source": [
        "import matplotlib\r\n",
        "import seaborn as sns\r\n",
        "import matplotlib.pyplot as plt\r\n",
        "import numpy as np\r\n",
        "import pandas as pd\r\n",
        "\r\n",
        "# Настройки для визуализации\r\n",
        "# Если используется темная тема - лучше текст сделать белым\r\n",
        "TEXT_COLOR = 'black'\r\n",
        "\r\n",
        "matplotlib.rcParams['figure.figsize'] = (15, 10)\r\n",
        "matplotlib.rcParams['text.color'] = 'black'\r\n",
        "matplotlib.rcParams['font.size'] = 14\r\n",
        "matplotlib.rcParams['axes.labelcolor'] = TEXT_COLOR\r\n",
        "matplotlib.rcParams['xtick.color'] = TEXT_COLOR\r\n",
        "matplotlib.rcParams['ytick.color'] = TEXT_COLOR\r\n",
        "\r\n",
        "# Зафиксируем состояние случайных чисел\r\n",
        "RANDOM_STATE = 42\r\n",
        "np.random.seed(RANDOM_STATE)"
      ],
      "execution_count": 1,
      "outputs": []
    },
    {
      "cell_type": "markdown",
      "metadata": {
        "id": "yioEgW3EZ5Cc"
      },
      "source": [
        "## Начнем работу! \r\n",
        "импортируем данные о домах в Бостоне для автоматической установки цены\r\n"
      ]
    },
    {
      "cell_type": "code",
      "metadata": {
        "colab": {
          "base_uri": "https://localhost:8080/"
        },
        "id": "JCNTaq_oaFwc",
        "outputId": "cc53c10b-86b6-4d33-d42e-431b42d4226a"
      },
      "source": [
        "from sklearn.datasets import load_boston\r\n",
        "\r\n",
        "boston_data = load_boston()\r\n",
        "print(type(boston_data))"
      ],
      "execution_count": 2,
      "outputs": [
        {
          "output_type": "stream",
          "text": [
            "<class 'sklearn.utils.Bunch'>\n"
          ],
          "name": "stdout"
        }
      ]
    },
    {
      "cell_type": "code",
      "metadata": {
        "colab": {
          "base_uri": "https://localhost:8080/"
        },
        "id": "dNiZOgh_bWM6",
        "outputId": "10a73ef8-00c8-4159-f70c-a2b44519c00b"
      },
      "source": [
        "# выведем имеющийся набор данных\r\n",
        "print(boston_data['DESCR'])"
      ],
      "execution_count": 3,
      "outputs": [
        {
          "output_type": "stream",
          "text": [
            ".. _boston_dataset:\n",
            "\n",
            "Boston house prices dataset\n",
            "---------------------------\n",
            "\n",
            "**Data Set Characteristics:**  \n",
            "\n",
            "    :Number of Instances: 506 \n",
            "\n",
            "    :Number of Attributes: 13 numeric/categorical predictive. Median Value (attribute 14) is usually the target.\n",
            "\n",
            "    :Attribute Information (in order):\n",
            "        - CRIM     per capita crime rate by town\n",
            "        - ZN       proportion of residential land zoned for lots over 25,000 sq.ft.\n",
            "        - INDUS    proportion of non-retail business acres per town\n",
            "        - CHAS     Charles River dummy variable (= 1 if tract bounds river; 0 otherwise)\n",
            "        - NOX      nitric oxides concentration (parts per 10 million)\n",
            "        - RM       average number of rooms per dwelling\n",
            "        - AGE      proportion of owner-occupied units built prior to 1940\n",
            "        - DIS      weighted distances to five Boston employment centres\n",
            "        - RAD      index of accessibility to radial highways\n",
            "        - TAX      full-value property-tax rate per $10,000\n",
            "        - PTRATIO  pupil-teacher ratio by town\n",
            "        - B        1000(Bk - 0.63)^2 where Bk is the proportion of blacks by town\n",
            "        - LSTAT    % lower status of the population\n",
            "        - MEDV     Median value of owner-occupied homes in $1000's\n",
            "\n",
            "    :Missing Attribute Values: None\n",
            "\n",
            "    :Creator: Harrison, D. and Rubinfeld, D.L.\n",
            "\n",
            "This is a copy of UCI ML housing dataset.\n",
            "https://archive.ics.uci.edu/ml/machine-learning-databases/housing/\n",
            "\n",
            "\n",
            "This dataset was taken from the StatLib library which is maintained at Carnegie Mellon University.\n",
            "\n",
            "The Boston house-price data of Harrison, D. and Rubinfeld, D.L. 'Hedonic\n",
            "prices and the demand for clean air', J. Environ. Economics & Management,\n",
            "vol.5, 81-102, 1978.   Used in Belsley, Kuh & Welsch, 'Regression diagnostics\n",
            "...', Wiley, 1980.   N.B. Various transformations are used in the table on\n",
            "pages 244-261 of the latter.\n",
            "\n",
            "The Boston house-price data has been used in many machine learning papers that address regression\n",
            "problems.   \n",
            "     \n",
            ".. topic:: References\n",
            "\n",
            "   - Belsley, Kuh & Welsch, 'Regression diagnostics: Identifying Influential Data and Sources of Collinearity', Wiley, 1980. 244-261.\n",
            "   - Quinlan,R. (1993). Combining Instance-Based and Model-Based Learning. In Proceedings on the Tenth International Conference of Machine Learning, 236-243, University of Massachusetts, Amherst. Morgan Kaufmann.\n",
            "\n"
          ],
          "name": "stdout"
        }
      ]
    },
    {
      "cell_type": "code",
      "metadata": {
        "colab": {
          "base_uri": "https://localhost:8080/"
        },
        "id": "PU6cF4QvaJCE",
        "outputId": "f7e0fadd-cb97-4574-a5e5-2aa48783d2c3"
      },
      "source": [
        "feature_data = boston_data['data']\r\n",
        "feature_names = boston_data['feature_names']\r\n",
        "target_data = boston_data['target']\r\n",
        "feature_data.shape"
      ],
      "execution_count": 4,
      "outputs": [
        {
          "output_type": "execute_result",
          "data": {
            "text/plain": [
              "(506, 13)"
            ]
          },
          "metadata": {
            "tags": []
          },
          "execution_count": 4
        }
      ]
    },
    {
      "cell_type": "code",
      "metadata": {
        "colab": {
          "base_uri": "https://localhost:8080/"
        },
        "id": "WnSQbmgdbKJv",
        "outputId": "8bfa4fdf-4094-45ea-ea81-658d7111deb3"
      },
      "source": [
        "# выведем имена признаков\r\n",
        "feature_names\r\n"
      ],
      "execution_count": 5,
      "outputs": [
        {
          "output_type": "execute_result",
          "data": {
            "text/plain": [
              "array(['CRIM', 'ZN', 'INDUS', 'CHAS', 'NOX', 'RM', 'AGE', 'DIS', 'RAD',\n",
              "       'TAX', 'PTRATIO', 'B', 'LSTAT'], dtype='<U7')"
            ]
          },
          "metadata": {
            "tags": []
          },
          "execution_count": 5
        }
      ]
    },
    {
      "cell_type": "markdown",
      "metadata": {
        "id": "3GgI62RybscT"
      },
      "source": [
        "# Чтобы было удобней работать - переведем данные в формат фреймворка pandas (удобство отображения и работы)"
      ]
    },
    {
      "cell_type": "code",
      "metadata": {
        "colab": {
          "base_uri": "https://localhost:8080/",
          "height": 197
        },
        "id": "UgC980oPb3Ba",
        "outputId": "d3e71b8a-81e0-4c55-8222-6d9f59a5128b"
      },
      "source": [
        "df = pd.DataFrame(feature_data, columns=boston_data['feature_names'])\r\n",
        "\r\n",
        "df.head()"
      ],
      "execution_count": 8,
      "outputs": [
        {
          "output_type": "execute_result",
          "data": {
            "text/html": [
              "<div>\n",
              "<style scoped>\n",
              "    .dataframe tbody tr th:only-of-type {\n",
              "        vertical-align: middle;\n",
              "    }\n",
              "\n",
              "    .dataframe tbody tr th {\n",
              "        vertical-align: top;\n",
              "    }\n",
              "\n",
              "    .dataframe thead th {\n",
              "        text-align: right;\n",
              "    }\n",
              "</style>\n",
              "<table border=\"1\" class=\"dataframe\">\n",
              "  <thead>\n",
              "    <tr style=\"text-align: right;\">\n",
              "      <th></th>\n",
              "      <th>CRIM</th>\n",
              "      <th>ZN</th>\n",
              "      <th>INDUS</th>\n",
              "      <th>CHAS</th>\n",
              "      <th>NOX</th>\n",
              "      <th>RM</th>\n",
              "      <th>AGE</th>\n",
              "      <th>DIS</th>\n",
              "      <th>RAD</th>\n",
              "      <th>TAX</th>\n",
              "      <th>PTRATIO</th>\n",
              "      <th>B</th>\n",
              "      <th>LSTAT</th>\n",
              "    </tr>\n",
              "  </thead>\n",
              "  <tbody>\n",
              "    <tr>\n",
              "      <th>0</th>\n",
              "      <td>0.00632</td>\n",
              "      <td>18.0</td>\n",
              "      <td>2.31</td>\n",
              "      <td>0.0</td>\n",
              "      <td>0.538</td>\n",
              "      <td>6.575</td>\n",
              "      <td>65.2</td>\n",
              "      <td>4.0900</td>\n",
              "      <td>1.0</td>\n",
              "      <td>296.0</td>\n",
              "      <td>15.3</td>\n",
              "      <td>396.90</td>\n",
              "      <td>4.98</td>\n",
              "    </tr>\n",
              "    <tr>\n",
              "      <th>1</th>\n",
              "      <td>0.02731</td>\n",
              "      <td>0.0</td>\n",
              "      <td>7.07</td>\n",
              "      <td>0.0</td>\n",
              "      <td>0.469</td>\n",
              "      <td>6.421</td>\n",
              "      <td>78.9</td>\n",
              "      <td>4.9671</td>\n",
              "      <td>2.0</td>\n",
              "      <td>242.0</td>\n",
              "      <td>17.8</td>\n",
              "      <td>396.90</td>\n",
              "      <td>9.14</td>\n",
              "    </tr>\n",
              "    <tr>\n",
              "      <th>2</th>\n",
              "      <td>0.02729</td>\n",
              "      <td>0.0</td>\n",
              "      <td>7.07</td>\n",
              "      <td>0.0</td>\n",
              "      <td>0.469</td>\n",
              "      <td>7.185</td>\n",
              "      <td>61.1</td>\n",
              "      <td>4.9671</td>\n",
              "      <td>2.0</td>\n",
              "      <td>242.0</td>\n",
              "      <td>17.8</td>\n",
              "      <td>392.83</td>\n",
              "      <td>4.03</td>\n",
              "    </tr>\n",
              "    <tr>\n",
              "      <th>3</th>\n",
              "      <td>0.03237</td>\n",
              "      <td>0.0</td>\n",
              "      <td>2.18</td>\n",
              "      <td>0.0</td>\n",
              "      <td>0.458</td>\n",
              "      <td>6.998</td>\n",
              "      <td>45.8</td>\n",
              "      <td>6.0622</td>\n",
              "      <td>3.0</td>\n",
              "      <td>222.0</td>\n",
              "      <td>18.7</td>\n",
              "      <td>394.63</td>\n",
              "      <td>2.94</td>\n",
              "    </tr>\n",
              "    <tr>\n",
              "      <th>4</th>\n",
              "      <td>0.06905</td>\n",
              "      <td>0.0</td>\n",
              "      <td>2.18</td>\n",
              "      <td>0.0</td>\n",
              "      <td>0.458</td>\n",
              "      <td>7.147</td>\n",
              "      <td>54.2</td>\n",
              "      <td>6.0622</td>\n",
              "      <td>3.0</td>\n",
              "      <td>222.0</td>\n",
              "      <td>18.7</td>\n",
              "      <td>396.90</td>\n",
              "      <td>5.33</td>\n",
              "    </tr>\n",
              "  </tbody>\n",
              "</table>\n",
              "</div>"
            ],
            "text/plain": [
              "      CRIM    ZN  INDUS  CHAS    NOX  ...  RAD    TAX  PTRATIO       B  LSTAT\n",
              "0  0.00632  18.0   2.31   0.0  0.538  ...  1.0  296.0     15.3  396.90   4.98\n",
              "1  0.02731   0.0   7.07   0.0  0.469  ...  2.0  242.0     17.8  396.90   9.14\n",
              "2  0.02729   0.0   7.07   0.0  0.469  ...  2.0  242.0     17.8  392.83   4.03\n",
              "3  0.03237   0.0   2.18   0.0  0.458  ...  3.0  222.0     18.7  394.63   2.94\n",
              "4  0.06905   0.0   2.18   0.0  0.458  ...  3.0  222.0     18.7  396.90   5.33\n",
              "\n",
              "[5 rows x 13 columns]"
            ]
          },
          "metadata": {
            "tags": []
          },
          "execution_count": 8
        }
      ]
    },
    {
      "cell_type": "markdown",
      "metadata": {
        "id": "UcjStAH4cASe"
      },
      "source": [
        "Поскольку самый важный показатель (зависимый) - это цена, то выделим ее под собственным именем"
      ]
    },
    {
      "cell_type": "code",
      "metadata": {
        "colab": {
          "base_uri": "https://localhost:8080/",
          "height": 197
        },
        "id": "AaOdYfrWcMJS",
        "outputId": "884888e8-74b4-44d6-9b69-db41a211f929"
      },
      "source": [
        "df['PRICE'] = target_data\r\n",
        "\r\n",
        "df.head()"
      ],
      "execution_count": 9,
      "outputs": [
        {
          "output_type": "execute_result",
          "data": {
            "text/html": [
              "<div>\n",
              "<style scoped>\n",
              "    .dataframe tbody tr th:only-of-type {\n",
              "        vertical-align: middle;\n",
              "    }\n",
              "\n",
              "    .dataframe tbody tr th {\n",
              "        vertical-align: top;\n",
              "    }\n",
              "\n",
              "    .dataframe thead th {\n",
              "        text-align: right;\n",
              "    }\n",
              "</style>\n",
              "<table border=\"1\" class=\"dataframe\">\n",
              "  <thead>\n",
              "    <tr style=\"text-align: right;\">\n",
              "      <th></th>\n",
              "      <th>CRIM</th>\n",
              "      <th>ZN</th>\n",
              "      <th>INDUS</th>\n",
              "      <th>CHAS</th>\n",
              "      <th>NOX</th>\n",
              "      <th>RM</th>\n",
              "      <th>AGE</th>\n",
              "      <th>DIS</th>\n",
              "      <th>RAD</th>\n",
              "      <th>TAX</th>\n",
              "      <th>PTRATIO</th>\n",
              "      <th>B</th>\n",
              "      <th>LSTAT</th>\n",
              "      <th>PRICE</th>\n",
              "    </tr>\n",
              "  </thead>\n",
              "  <tbody>\n",
              "    <tr>\n",
              "      <th>0</th>\n",
              "      <td>0.00632</td>\n",
              "      <td>18.0</td>\n",
              "      <td>2.31</td>\n",
              "      <td>0.0</td>\n",
              "      <td>0.538</td>\n",
              "      <td>6.575</td>\n",
              "      <td>65.2</td>\n",
              "      <td>4.0900</td>\n",
              "      <td>1.0</td>\n",
              "      <td>296.0</td>\n",
              "      <td>15.3</td>\n",
              "      <td>396.90</td>\n",
              "      <td>4.98</td>\n",
              "      <td>24.0</td>\n",
              "    </tr>\n",
              "    <tr>\n",
              "      <th>1</th>\n",
              "      <td>0.02731</td>\n",
              "      <td>0.0</td>\n",
              "      <td>7.07</td>\n",
              "      <td>0.0</td>\n",
              "      <td>0.469</td>\n",
              "      <td>6.421</td>\n",
              "      <td>78.9</td>\n",
              "      <td>4.9671</td>\n",
              "      <td>2.0</td>\n",
              "      <td>242.0</td>\n",
              "      <td>17.8</td>\n",
              "      <td>396.90</td>\n",
              "      <td>9.14</td>\n",
              "      <td>21.6</td>\n",
              "    </tr>\n",
              "    <tr>\n",
              "      <th>2</th>\n",
              "      <td>0.02729</td>\n",
              "      <td>0.0</td>\n",
              "      <td>7.07</td>\n",
              "      <td>0.0</td>\n",
              "      <td>0.469</td>\n",
              "      <td>7.185</td>\n",
              "      <td>61.1</td>\n",
              "      <td>4.9671</td>\n",
              "      <td>2.0</td>\n",
              "      <td>242.0</td>\n",
              "      <td>17.8</td>\n",
              "      <td>392.83</td>\n",
              "      <td>4.03</td>\n",
              "      <td>34.7</td>\n",
              "    </tr>\n",
              "    <tr>\n",
              "      <th>3</th>\n",
              "      <td>0.03237</td>\n",
              "      <td>0.0</td>\n",
              "      <td>2.18</td>\n",
              "      <td>0.0</td>\n",
              "      <td>0.458</td>\n",
              "      <td>6.998</td>\n",
              "      <td>45.8</td>\n",
              "      <td>6.0622</td>\n",
              "      <td>3.0</td>\n",
              "      <td>222.0</td>\n",
              "      <td>18.7</td>\n",
              "      <td>394.63</td>\n",
              "      <td>2.94</td>\n",
              "      <td>33.4</td>\n",
              "    </tr>\n",
              "    <tr>\n",
              "      <th>4</th>\n",
              "      <td>0.06905</td>\n",
              "      <td>0.0</td>\n",
              "      <td>2.18</td>\n",
              "      <td>0.0</td>\n",
              "      <td>0.458</td>\n",
              "      <td>7.147</td>\n",
              "      <td>54.2</td>\n",
              "      <td>6.0622</td>\n",
              "      <td>3.0</td>\n",
              "      <td>222.0</td>\n",
              "      <td>18.7</td>\n",
              "      <td>396.90</td>\n",
              "      <td>5.33</td>\n",
              "      <td>36.2</td>\n",
              "    </tr>\n",
              "  </tbody>\n",
              "</table>\n",
              "</div>"
            ],
            "text/plain": [
              "      CRIM    ZN  INDUS  CHAS    NOX  ...    TAX  PTRATIO       B  LSTAT  PRICE\n",
              "0  0.00632  18.0   2.31   0.0  0.538  ...  296.0     15.3  396.90   4.98   24.0\n",
              "1  0.02731   0.0   7.07   0.0  0.469  ...  242.0     17.8  396.90   9.14   21.6\n",
              "2  0.02729   0.0   7.07   0.0  0.469  ...  242.0     17.8  392.83   4.03   34.7\n",
              "3  0.03237   0.0   2.18   0.0  0.458  ...  222.0     18.7  394.63   2.94   33.4\n",
              "4  0.06905   0.0   2.18   0.0  0.458  ...  222.0     18.7  396.90   5.33   36.2\n",
              "\n",
              "[5 rows x 14 columns]"
            ]
          },
          "metadata": {
            "tags": []
          },
          "execution_count": 9
        }
      ]
    },
    {
      "cell_type": "markdown",
      "metadata": {
        "id": "iXD509ccdE1X"
      },
      "source": [
        " Оценим также данные на уникальность признаков"
      ]
    },
    {
      "cell_type": "code",
      "metadata": {
        "colab": {
          "base_uri": "https://localhost:8080/"
        },
        "id": "QDfwBOUhdXk1",
        "outputId": "0f2999cb-d462-4338-888a-b74122a535d1"
      },
      "source": [
        "df.info()"
      ],
      "execution_count": 12,
      "outputs": [
        {
          "output_type": "stream",
          "text": [
            "<class 'pandas.core.frame.DataFrame'>\n",
            "RangeIndex: 506 entries, 0 to 505\n",
            "Data columns (total 14 columns):\n",
            " #   Column   Non-Null Count  Dtype  \n",
            "---  ------   --------------  -----  \n",
            " 0   CRIM     506 non-null    float64\n",
            " 1   ZN       506 non-null    float64\n",
            " 2   INDUS    506 non-null    float64\n",
            " 3   CHAS     506 non-null    float64\n",
            " 4   NOX      506 non-null    float64\n",
            " 5   RM       506 non-null    float64\n",
            " 6   AGE      506 non-null    float64\n",
            " 7   DIS      506 non-null    float64\n",
            " 8   RAD      506 non-null    float64\n",
            " 9   TAX      506 non-null    float64\n",
            " 10  PTRATIO  506 non-null    float64\n",
            " 11  B        506 non-null    float64\n",
            " 12  LSTAT    506 non-null    float64\n",
            " 13  PRICE    506 non-null    float64\n",
            "dtypes: float64(14)\n",
            "memory usage: 55.5 KB\n"
          ],
          "name": "stdout"
        }
      ]
    },
    {
      "cell_type": "code",
      "metadata": {
        "colab": {
          "base_uri": "https://localhost:8080/"
        },
        "id": "DP04bIihdhLz",
        "outputId": "32580035-1671-4158-e12f-05767fc3b55b"
      },
      "source": [
        "df.nunique()"
      ],
      "execution_count": 11,
      "outputs": [
        {
          "output_type": "execute_result",
          "data": {
            "text/plain": [
              "CRIM       504\n",
              "ZN          26\n",
              "INDUS       76\n",
              "CHAS         2\n",
              "NOX         81\n",
              "RM         446\n",
              "AGE        356\n",
              "DIS        412\n",
              "RAD          9\n",
              "TAX         66\n",
              "PTRATIO     46\n",
              "B          357\n",
              "LSTAT      455\n",
              "PRICE      229\n",
              "dtype: int64"
            ]
          },
          "metadata": {
            "tags": []
          },
          "execution_count": 11
        }
      ]
    },
    {
      "cell_type": "markdown",
      "metadata": {
        "id": "w074RSzdeKQX"
      },
      "source": [
        "Признак CHAS имеет два значения - сделаем его категориальным."
      ]
    },
    {
      "cell_type": "code",
      "metadata": {
        "colab": {
          "base_uri": "https://localhost:8080/"
        },
        "id": "q9VU9WNGeJQR",
        "outputId": "fe4b9469-21f2-4c28-8306-14f5c1bcceca"
      },
      "source": [
        "df['CHAS'] = df['CHAS'].astype(int).astype(dtype='category')\r\n",
        "\r\n",
        "df.info()"
      ],
      "execution_count": 13,
      "outputs": [
        {
          "output_type": "stream",
          "text": [
            "<class 'pandas.core.frame.DataFrame'>\n",
            "RangeIndex: 506 entries, 0 to 505\n",
            "Data columns (total 14 columns):\n",
            " #   Column   Non-Null Count  Dtype   \n",
            "---  ------   --------------  -----   \n",
            " 0   CRIM     506 non-null    float64 \n",
            " 1   ZN       506 non-null    float64 \n",
            " 2   INDUS    506 non-null    float64 \n",
            " 3   CHAS     506 non-null    category\n",
            " 4   NOX      506 non-null    float64 \n",
            " 5   RM       506 non-null    float64 \n",
            " 6   AGE      506 non-null    float64 \n",
            " 7   DIS      506 non-null    float64 \n",
            " 8   RAD      506 non-null    float64 \n",
            " 9   TAX      506 non-null    float64 \n",
            " 10  PTRATIO  506 non-null    float64 \n",
            " 11  B        506 non-null    float64 \n",
            " 12  LSTAT    506 non-null    float64 \n",
            " 13  PRICE    506 non-null    float64 \n",
            "dtypes: category(1), float64(13)\n",
            "memory usage: 52.1 KB\n"
          ],
          "name": "stdout"
        }
      ]
    },
    {
      "cell_type": "markdown",
      "metadata": {
        "id": "MZKfFFvIctVL"
      },
      "source": [
        "# Создадим baseline модель!"
      ]
    },
    {
      "cell_type": "code",
      "metadata": {
        "id": "xALAZMRcczbh"
      },
      "source": [
        "#  импортируем нужные функции из slkear\r\n",
        "from sklearn.linear_model import LinearRegression\r\n",
        "from sklearn.metrics import mean_squared_error, mean_absolute_error, r2_score\r\n",
        "from sklearn.preprocessing import StandardScaler\r\n",
        "from sklearn.model_selection import train_test_split"
      ],
      "execution_count": 14,
      "outputs": []
    },
    {
      "cell_type": "markdown",
      "metadata": {
        "id": "JqUwFdC2hKCx"
      },
      "source": [
        "Разделим выборку"
      ]
    },
    {
      "cell_type": "code",
      "metadata": {
        "colab": {
          "base_uri": "https://localhost:8080/"
        },
        "id": "me1ZcydzhGTz",
        "outputId": "26711c4e-e07a-4182-8a81-abb1f6d8b70c"
      },
      "source": [
        "# 70% - для обучения, 30% - для тестов\r\n",
        "TRAIN_RATIO = 0.7\r\n",
        "# X - DataFrame только с признаками (для примера берем все признаки)\r\n",
        "X = df[feature_names]\r\n",
        "# y - истинные значения (разметка)\r\n",
        "y = df['PRICE'] # целвая функция (зависимая)\r\n",
        "X_train, X_test, y_train, y_test = train_test_split(\r\n",
        "    # Передаются наборы, которые будут разделены в соответсвии с параметрами\r\n",
        "    X, y, \r\n",
        "    # Задается размер обучающей выборки\r\n",
        "    train_size=TRAIN_RATIO, \r\n",
        "    # Фиксируется состояние генератора случайных чисел \r\n",
        "    #   для сохранения повторяемости\r\n",
        "    random_state=RANDOM_STATE\r\n",
        ")\r\n",
        "\r\n",
        "# Отображение размеров выборок\r\n",
        "print(X_train.shape, y_train.shape)\r\n",
        "print(X_test.shape, y_test.shape)\r\n",
        "print(X.shape)"
      ],
      "execution_count": 16,
      "outputs": [
        {
          "output_type": "stream",
          "text": [
            "(354, 13) (354,)\n",
            "(152, 13) (152,)\n",
            "(506, 13)\n"
          ],
          "name": "stdout"
        }
      ]
    },
    {
      "cell_type": "markdown",
      "metadata": {
        "id": "zUd33mlwhztN"
      },
      "source": [
        "Убедились, что размерности соответсвуют "
      ]
    },
    {
      "cell_type": "code",
      "metadata": {
        "colab": {
          "base_uri": "https://localhost:8080/"
        },
        "id": "gaSXEtUjh3Vz",
        "outputId": "8122bc8c-6ed0-4cb1-a8d4-a2a7b6bbe939"
      },
      "source": [
        "# Создаем объект\r\n",
        "reg = LinearRegression()\r\n",
        "# Обучаем на выборке для обучения с помощью метода fit\r\n",
        "reg.fit(X_train, y_train) # обучение нашего объекта reg"
      ],
      "execution_count": 17,
      "outputs": [
        {
          "output_type": "execute_result",
          "data": {
            "text/plain": [
              "LinearRegression(copy_X=True, fit_intercept=True, n_jobs=None, normalize=False)"
            ]
          },
          "metadata": {
            "tags": []
          },
          "execution_count": 17
        }
      ]
    },
    {
      "cell_type": "markdown",
      "metadata": {
        "id": "UAtXm3WViAW1"
      },
      "source": [
        " Для того, чтобы работать с весами, создадим отдельную функцию"
      ]
    },
    {
      "cell_type": "code",
      "metadata": {
        "colab": {
          "base_uri": "https://localhost:8080/"
        },
        "id": "Kza1TYkTiJso",
        "outputId": "d3beda22-92c6-430a-9723-f5198da2380c"
      },
      "source": [
        "\r\n",
        "def show_linear_model_weights(model, feature_names=None):\r\n",
        "    '''\r\n",
        "    Отображение весов\r\n",
        "    Аргументы:\r\n",
        "        model - модель линейной регрессии\r\n",
        "        feature_names - (опционально) если передано, отображение весов вместе с именами признаков\r\n",
        "    '''\r\n",
        "    print('\\n----- Weights -----')\r\n",
        "    weights = model.coef_\r\n",
        "    bias = model.intercept_\r\n",
        "    if feature_names is None:  \r\n",
        "        print(f'Weights: {weights}')\r\n",
        "    else:\r\n",
        "        # Функция zip() делает из двух списков один список пар значений\r\n",
        "        pairs = zip(feature_names, weights)\r\n",
        "        for pair in pairs:\r\n",
        "            print(f'{pair[0]} | {pair[1]}')\r\n",
        "\r\n",
        "    print(f'Bias: {bias}')\r\n",
        "\r\n",
        "show_linear_model_weights(reg, X_train.columns)"
      ],
      "execution_count": 18,
      "outputs": [
        {
          "output_type": "stream",
          "text": [
            "\n",
            "----- Weights -----\n",
            "CRIM | -0.1334701028529461\n",
            "ZN | 0.03580891359323195\n",
            "INDUS | 0.04952264522005543\n",
            "CHAS | 3.119835116285394\n",
            "NOX | -15.417060895306689\n",
            "RM | 4.057199231645403\n",
            "AGE | -0.010820835184926221\n",
            "DIS | -1.3859982431608788\n",
            "RAD | 0.24272733982224926\n",
            "TAX | -0.00870223436566183\n",
            "PTRATIO | -0.9106852081102881\n",
            "B | 0.011794115892575632\n",
            "LSTAT | -0.5471133128239569\n",
            "Bias: 31.631084035691632\n"
          ],
          "name": "stdout"
        }
      ]
    },
    {
      "cell_type": "markdown",
      "metadata": {
        "id": "inZE13FtiYnY"
      },
      "source": [
        " ## Наконец, отобразим график предсказаний!\r\n",
        " Используем для этого функцию predict\r\n",
        " \r\n",
        " Но для начала создадим функцю отдельного вывода этого предсказания!"
      ]
    },
    {
      "cell_type": "code",
      "metadata": {
        "id": "RgriMjS8i2ob"
      },
      "source": [
        "def draw_predictions_plot(y_pred, y_true):\r\n",
        "    plt.figure(figsize=(10, 9))\r\n",
        "    plt.scatter(y_pred, y_true) # строим точечный график\r\n",
        "    line_pnts = np.linspace(np.amin(y_pred), np.amax(y_pred), 1000) \r\n",
        "    plt.plot(line_pnts, line_pnts, 'k--')\r\n",
        "    plt.xlabel('Predicted')\r\n",
        "    plt.ylabel('True')\r\n",
        "    plt.grid()"
      ],
      "execution_count": 36,
      "outputs": []
    },
    {
      "cell_type": "code",
      "metadata": {
        "colab": {
          "base_uri": "https://localhost:8080/",
          "height": 551
        },
        "id": "fKzHTvPfjNIm",
        "outputId": "051a142f-1e9a-4d8a-9c99-5c5580c5c3b8"
      },
      "source": [
        "y_pred = reg.predict(X_test)\r\n",
        "draw_predictions_plot(y_pred, y_test)"
      ],
      "execution_count": 37,
      "outputs": [
        {
          "output_type": "display_data",
          "data": {
            "image/png": "[encoded data removed]",
            "text/plain": [
              "<Figure size 720x648 with 1 Axes>"
            ]
          },
          "metadata": {
            "tags": [],
            "needs_background": "light"
          }
        }
      ]
    },
    {
      "cell_type": "markdown",
      "metadata": {
        "id": "7etrdasslKW0"
      },
      "source": [
        "На этом графике, если точка лежит на линии - это значит что предсказание и реальное значение данных одинаковы (модель работает корректно!)\r\n"
      ]
    },
    {
      "cell_type": "markdown",
      "metadata": {
        "id": "fSEPq0oXlbAS"
      },
      "source": [
        "Ради интереса, посмотрим распределение ошибок."
      ]
    },
    {
      "cell_type": "code",
      "metadata": {
        "colab": {
          "base_uri": "https://localhost:8080/",
          "height": 367
        },
        "id": "EdwlfCfnlfn5",
        "outputId": "e4187a6c-df08-4c09-f128-6fd6f74c7d3f"
      },
      "source": [
        "y_residuals = y_pred-y_test\r\n",
        "sns.distplot(y_residuals, bins=100,color=\"r\",)\r\n",
        "plt.title(\"Плотность распределения ошибки\") \r\n",
        "plt.legend()\r\n",
        "plt.grid()"
      ],
      "execution_count": 43,
      "outputs": [
        {
          "output_type": "stream",
          "text": [
            "/usr/local/lib/python3.6/dist-packages/seaborn/distributions.py:2551: FutureWarning: `distplot` is a deprecated function and will be removed in a future version. Please adapt your code to use either `displot` (a figure-level function with similar flexibility) or `histplot` (an axes-level function for histograms).\n",
            "  warnings.warn(msg, FutureWarning)\n",
            "No handles with labels found to put in legend.\n"
          ],
          "name": "stderr"
        },
        {
          "output_type": "display_data",
          "data": {
            "image/png": "[encoded data removed]",
            "text/plain": [
              "<Figure size 432x288 with 1 Axes>"
            ]
          },
          "metadata": {
            "tags": [],
            "needs_background": "light"
          }
        }
      ]
    },
    {
      "cell_type": "markdown",
      "metadata": {
        "id": "VS6mHuM1mkHL"
      },
      "source": [
        "Плотность имеет нормально распределение. Из графика видно, что нулевая ошибка встречается наиболее часто, большие ошибки практически исключены, что говорит о корректности предсказания."
      ]
    },
    {
      "cell_type": "markdown",
      "metadata": {
        "id": "h7vNJdRxeqWl"
      },
      "source": [
        "# Произведем расширенный анализ данных:\r\n",
        "\r\n",
        "Корреляция признаков (взаимовлияние)\r\n"
      ]
    },
    {
      "cell_type": "code",
      "metadata": {
        "colab": {
          "base_uri": "https://localhost:8080/",
          "height": 318
        },
        "id": "Jy157h5Ie3Zn",
        "outputId": "dea1ad3e-0cbc-4d6f-d518-2bcdf341ffb8"
      },
      "source": [
        "feature_names = np.append(feature_names,'PRICE') # ДОБАВИМ КОЛОНКУ ЦЕН\r\n",
        "correlation_mtrx = df[feature_names].corr()\r\n",
        "correlation_mtrx\r\n",
        "# добавим цветности \r\n",
        "sns.heatmap(correlation_mtrx, annot=True, fmt='.2f')"
      ],
      "execution_count": 52,
      "outputs": [
        {
          "output_type": "execute_result",
          "data": {
            "text/plain": [
              "<matplotlib.axes._subplots.AxesSubplot at 0x7fa89d0f8748>"
            ]
          },
          "metadata": {
            "tags": []
          },
          "execution_count": 52
        },
        {
          "output_type": "display_data",
          "data": {
            "image/png": "[encoded data removed]",
            "text/plain": [
              "<Figure size 432x288 with 2 Axes>"
            ]
          },
          "metadata": {
            "tags": [],
            "needs_background": "light"
          }
        }
      ]
    }
  ]
}